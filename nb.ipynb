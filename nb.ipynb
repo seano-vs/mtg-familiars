{
 "cells": [
  {
   "cell_type": "code",
   "execution_count": null,
   "metadata": {},
   "outputs": [],
   "source": [
    "from collections import Counter\n",
    "from matplotlib import pyplot as plt \n",
    "from rich import print\n",
    "import google.generativeai as genai\n",
    "import json\n",
    "import tabulate\n",
    "import sf\n",
    "import secret_constants\n",
    "import textwrap"
   ]
  },
  {
   "cell_type": "markdown",
   "metadata": {},
   "source": [
    "Make sure you download the right [bulk file from the scryfall api page](https://scryfall.com/docs/api/bulk-data) and reference it here. I tried grabbing it automatically, but there is a significant size mismatch from the interactively downloaded one and the files listed in `/bulk-data`."
   ]
  },
  {
   "cell_type": "code",
   "execution_count": null,
   "metadata": {},
   "outputs": [],
   "source": [
    "\n",
    "scryfall_all_cards = \"all-cards-20240412091807.json\"\n",
    "cards = sf.elligible_cards(scryfall_all_cards)\n",
    "print(\"Pulled in \", len(cards), \" valid creature cards.\")\n",
    "animal_pools = sf.animal_pools(cards)"
   ]
  },
  {
   "cell_type": "markdown",
   "metadata": {},
   "source": [
    "`cards` will be all the raw cards used in scope for this (commander-legal animals that exist in real life)."
   ]
  },
  {
   "cell_type": "code",
   "execution_count": null,
   "metadata": {},
   "outputs": [],
   "source": [
    "legends = []\n",
    "legend_creature_types = []\n",
    "for card in cards:\n",
    "    if \"frame_effects\" in card:\n",
    "        if \"legendary\" in card[\"frame_effects\"]:\n",
    "            legends.append(card)\n",
    "            legend_creature_types.extend(sf.allowed_type_line(card))\n",
    "\n",
    "print(\"Pulled in \", len(legends), \" legendary creatures with \", len(set(legend_creature_types)), \" unique, elligible creature types.\")\n",
    "print(\"Example card:\")\n",
    "print(legends[0])"
   ]
  },
  {
   "cell_type": "code",
   "execution_count": null,
   "metadata": {},
   "outputs": [],
   "source": [
    "allowed_keys = [\"id\", \"name\", \"type_line\", \"keywords\", \"oracle_text\"]\n",
    "legends_decision_context = json.dumps([{key: value for key, value in dict.items() if key in allowed_keys} for dict in legends])\n"
   ]
  },
  {
   "cell_type": "code",
   "execution_count": null,
   "metadata": {},
   "outputs": [],
   "source": [
    "genai.configure(api_key=secret_constants.gemini_key)\n",
    "model = genai.GenerativeModel('gemini-1.5-pro-latest')\n",
    "\n",
    "prompt = \"\"\"\n",
    "Here is a list of magic the gathering cards and their data. Determine which of these cards, in pairs, have the most synergy and potential to work well together in a game of magic the gathering. Score each pair by how well they synergize, on a scale of 1-100 where 100 is the highest synergy. Reference each card by its id field. Make sure to find at least 20 pair combinations among these cards. Return your results as a JSON list with the following schema:\n",
    "\n",
    "[{\"synergy\":int, \"card1_id\":str, \"card2_id\":str}]\n",
    "\n",
    "All fields are required.\n",
    "\n",
    "Important: Only return a single piece of valid JSON text.\n",
    "\n",
    "Here are the cards:\n",
    "\n",
    "\"\"\"\n",
    "# Gemini times out because it sucks\n",
    "for i in range(0,3):\n",
    "    while True:\n",
    "        try:\n",
    "            response = model.generate_content(textwrap.dedent(prompt) + legends_decision_context)\n",
    "        except:\n",
    "            continue\n",
    "        break\n",
    "\n",
    "response.text\n"
   ]
  },
  {
   "cell_type": "code",
   "execution_count": null,
   "metadata": {},
   "outputs": [],
   "source": [
    "response_json = json.loads(response.text.strip('`\\r\\n ').removeprefix('json'))\n",
    "#print(json.dumps(json.loads(response_json), indent=4))\n",
    "\n",
    "class pairing:\n",
    "    def __init__(self, pair):\n",
    "        self.pair = pair\n",
    "        self.synergy = pair[\"synergy\"]\n",
    "        self.card1 = next((card for card in cards if card['id'] == pair[\"card1_id\"]), None)\n",
    "        self.card1_link = self.make_clickable(self.card1['scryfall_uri'], \"CLICK_HERE\")\n",
    "        self.card2 = next((card for card in cards if card['id'] == pair[\"card2_id\"]), None)\n",
    "        self.card2_link = self.make_clickable(self.card2['scryfall_uri'], \"CLICK_HERE\")\n",
    "        self.animal_types = sf.allowed_type_line(self.card1).union(sf.allowed_type_line(self.card2))\n",
    "        self.name = str(self.card1[\"name\"] + \" & \" + self.card2[\"name\"])\n",
    "        self.colors()\n",
    "        self.animal_pool()\n",
    "\n",
    "    def colors(self):\n",
    "        all_colors = list(set(self.card1[\"colors\"]) | set(self.card2[\"colors\"]))\n",
    "        return all_colors\n",
    "    \n",
    "    def animal_pool(self):\n",
    "        #animal_types = sf.allowed_type_line(self.card1).union(sf.allowed_type_line(self.card2))\n",
    "        animals_and_their_counts = {}\n",
    "        # Yo this kinda gorss tho\n",
    "        for animal in self.animal_types:\n",
    "            animals_and_their_counts[animal] = 0\n",
    "            for self_color in self.colors():\n",
    "                for all_colors_for_that_animal in animal_pools[animal]:\n",
    "                    if self_color in all_colors_for_that_animal or \"N\" in all_colors_for_that_animal:\n",
    "                        animals_and_their_counts[animal] += 1\n",
    "        return animals_and_their_counts\n",
    "    \n",
    "    def make_clickable(self, url, name):\n",
    "        return '<a href=\"{}\">{}</a>'.format(url,name)\n",
    "        \n",
    "table = []\n",
    "for pair in response_json:\n",
    "    row = pairing(pair)\n",
    "    table.append([row.synergy, row.name, row.animal_types, row.colors(), row.card1_link, row.card2_link, row.animal_pool()])\n",
    "\n",
    "tabulate.tabulate(table, tablefmt='unsafehtml', headers=[\"Synergy\", \"Cards\", \"Animals\", \"Colors\", \"Card 1 Link\", \"Card 2 Link\", \"Animal Pool\"])"
   ]
  }
 ],
 "metadata": {
  "kernelspec": {
   "display_name": ".venv",
   "language": "python",
   "name": "python3"
  },
  "language_info": {
   "codemirror_mode": {
    "name": "ipython",
    "version": 3
   },
   "file_extension": ".py",
   "mimetype": "text/x-python",
   "name": "python",
   "nbconvert_exporter": "python",
   "pygments_lexer": "ipython3",
   "version": "3.10.12"
  }
 },
 "nbformat": 4,
 "nbformat_minor": 2
}
